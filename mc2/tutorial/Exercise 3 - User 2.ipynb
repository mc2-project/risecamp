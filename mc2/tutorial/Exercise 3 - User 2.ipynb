{
 "cells": [
  {
   "cell_type": "markdown",
   "metadata": {},
   "source": [
    "# Client Collaboration\n",
    "\n",
    "[Previous notebook](./Exercise%202%20-%20User%202.ipynb)\n",
    "\n",
    "Run the following cells to get everything set up in preparation for model training and prediction."
   ]
  },
  {
   "cell_type": "code",
   "execution_count": null,
   "metadata": {},
   "outputs": [],
   "source": [
    "import securexgboost as mc2\n",
    "from Utils import * \n",
    "\n",
    "server_ip = \"127.0.0.1\"\n",
    "server_port = \"50052\" \n",
    "remote_addr = server_ip + \":\" + server_port "
   ]
  },
  {
   "cell_type": "markdown",
   "metadata": {},
   "source": [
    "**TODO**: Enter the username you used in Exercise 1 for user2 below."
   ]
  },
  {
   "cell_type": "code",
   "execution_count": null,
   "metadata": {},
   "outputs": [],
   "source": [
    "# TODO: Enter the username you used for Exercise 1\n",
    "# below as a string. Ensure that your username doesn't\n",
    "# contain any spaces.\n",
    "username = # ...\n",
    "\n",
    "data_dir = \"/home/mc2/skycamp/mc2/tutorial/data/\"\n",
    "PUB_KEY = \"config/{0}.pem\".format(username)\n",
    "CERT_FILE = \"config/{0}.crt\".format(username)\n",
    "KEY_FILE = \"{}_key.txt\".format(username)\n",
    "enc_training_data = data_dir + \"{}_train.enc\".format(username)\n",
    "enc_test_data = data_dir + \"{}_test.enc\".format(username)"
   ]
  },
  {
   "cell_type": "markdown",
   "metadata": {},
   "source": [
    "## 1. Data Transfer\n",
    "Next, centralize the data by sending your training and test data to the enclave server. In practice, this would mean uploading your encrypted data to a remote server. However, because this tutorial is done all on one machine, each of the two mushroom enthusiasts that you're locally acting on behalf of will copy their data to a central directory.\n",
    "\n",
    "The `transfer_data()` function below is a Python wrapper around the command line `scp` function."
   ]
  },
  {
   "cell_type": "code",
   "execution_count": null,
   "metadata": {},
   "outputs": [],
   "source": [
    "transfer_data(enc_training_data, server_ip)\n",
    "transfer_data(enc_test_data, server_ip)"
   ]
  },
  {
   "cell_type": "markdown",
   "metadata": {},
   "source": [
    "## 2. Client Initialization and Authentication\n",
    "Once both mushroom enthusiasts have uploaded their data, we can initialize our client. You'll need the usernames that you gave each mushroom enthusiast.\n",
    "\n",
    "**TODO:** Fill in the usernames of all parties in your collaboration."
   ]
  },
  {
   "cell_type": "code",
   "execution_count": null,
   "metadata": {},
   "outputs": [],
   "source": [
    "# Run this cell to initialize your client\n",
    "\n",
    "# TODO: fill out `clients`\n",
    "\n",
    "###########################################################\n",
    "# `clients` is a Python list of the usernames you \n",
    "# specified in each Exercise 1 notebook, e.g.\n",
    "#\n",
    "# clients = [\"alice\", \"bob\"]\n",
    "###########################################################\n",
    "clients = # ...\n",
    "mc2.init_client(user_name=username, client_list=clients, sym_key_file=KEY_FILE, \n",
    "                priv_key_file=PUB_KEY, cert_file=CERT_FILE, remote_addr=remote_addr)"
   ]
  },
  {
   "cell_type": "markdown",
   "metadata": {},
   "source": [
    "Before we perform any computation, we want to attest that the remote enclave on the untrusted server has loaded the proper code. Secure XGBoost provides this functionality through the `attest()` API."
   ]
  },
  {
   "cell_type": "code",
   "execution_count": null,
   "metadata": {},
   "outputs": [],
   "source": [
    "# Verify that the enclave has been set up correctly\n",
    "mc2.attest()"
   ]
  },
  {
   "cell_type": "markdown",
   "metadata": {},
   "source": [
    "## 3. Collaborative Training\n",
    "Once we've authenticated the enclave, we can begin making requests to the enclave server. MC<sup>2</sup> enables users to make requests through a Python API, but will only execute requests once all users in the collaboration have submitted the same request. Consequently, users must submit the exact same requests in the exact order if they want to collaboratively compute. \n",
    "\n",
    "In particular, if you submit a request, the RPC orchestrator will queue up your request and only relay the request to the enclave server once all members of the collaboration have submitted the same request. Consequently, the execution of a cell containing a MC<sup>2</sup> API call will only finish once all parties have called the same function and the enclave server has returned from that function.\n",
    "\n",
    "Let's first prepare for training by loading everyone's encrypted training data within the enclave. "
   ]
  },
  {
   "cell_type": "markdown",
   "metadata": {},
   "source": [
    "**TODO:** Fill in the paths to each party's training data. Your training data is at `<your_username>_train.enc`.\n",
    "\n",
    "MC<sup>2</sup>'s `DMatrix()` function takes in a dictionary:\n",
    "\n",
    "`{\"username1\": \"user1.data\", \"username2\": \"user2.data\"}`. "
   ]
  },
  {
   "cell_type": "code",
   "execution_count": null,
   "metadata": {},
   "outputs": [],
   "source": [
    "# TODO: fill in usernames and training data paths\n",
    "\n",
    "###########################################################################################\n",
    "# For example, given that you used usernames `alice` and `bob` in each notebook, \n",
    "# the call would look like\n",
    "#\n",
    "# dtrain = mc2.DMatrix({\"alice\": \"alice_train.enc\", \"bob\": \"bob_train.enc\"})\n",
    "###########################################################################################\n",
    "\n",
    "dtrain = mc2.DMatrix({<****>: <****>,\n",
    "                      <****>: <****>})"
   ]
  },
  {
   "cell_type": "markdown",
   "metadata": {},
   "source": [
    "**Note:** The cell above will only finish execution once every party has run it. If all parties have not yet run the cell, the cell will be blocked.\n",
    "\n",
    "Next, jointly train a model over all mushroom samples shared by your group!"
   ]
  },
  {
   "cell_type": "code",
   "execution_count": null,
   "metadata": {},
   "outputs": [],
   "source": [
    "# Set parameters\n",
    "params = {\n",
    "        \"tree_method\": \"hist\",\n",
    "        \"objective\": \"binary:logistic\",\n",
    "        \"min_child_weight\": \"1\",\n",
    "        \"gamma\": \"0.1\",\n",
    "        \"max_depth\": \"3\",\n",
    "        \"verbosity\": \"1\" \n",
    "}\n",
    "\n",
    "num_rounds = 20\n",
    "booster = mc2.train(params, dtrain, num_rounds)"
   ]
  },
  {
   "cell_type": "markdown",
   "metadata": {},
   "source": [
    "**Note:** The cell above will only finish execution once every party has run it. If all parties have not yet run the cell, the cell will be blocked."
   ]
  },
  {
   "cell_type": "markdown",
   "metadata": {},
   "source": [
    "## 4. Prediction Serving\n",
    "Once we've jointly trained a model, we'll use the model to serve predictions on each party's test data. Each party should load its data into a separate object so that the model will output a set of predictions on only that party's test data. Predictions served by MC<sup>2</sup> are encrypted and can only be decrypted by the owner of the test data.\n",
    "\n",
    "Remember that a request can only be executed if every party allows it. As a result, we'll need to submit a request to load test data for _every party_. \n",
    "\n",
    "**Make sure that each party in your collaboration loads parties' test data in the same order, i.e. `dtest1` is the same party's data, `dtest2` is the same party's data, etc across all notebooks.**\n",
    "\n",
    "**TODO:** Fill in usernames and paths to test data for each user. Your test data is at `<your_username>_test.enc`."
   ]
  },
  {
   "cell_type": "code",
   "execution_count": null,
   "metadata": {},
   "outputs": [],
   "source": [
    "# TODO: fill in usernames and test data paths\n",
    "dtest1 = mc2.DMatrix({<****>: <****>})\n",
    "dtest2 = mc2.DMatrix({<****>: <****>})"
   ]
  },
  {
   "cell_type": "markdown",
   "metadata": {},
   "source": [
    "**Note:** The cell above will only finish execution once every party has run it (you have run this cell from each of the two Exercise 3 notebooks). If all parties have not yet run the cell, the cell will be blocked.\n",
    "\n",
    "Once we've loaded each party's test data, we'll need MC<sup>2</sup> to serve predictions on each set of test data.\n",
    "\n",
    "The `predict()` function returns two values: `(encrypted_predictions, num_predictions)`."
   ]
  },
  {
   "cell_type": "code",
   "execution_count": null,
   "metadata": {},
   "outputs": [],
   "source": [
    "enc_preds1, num_preds1 = booster.predict(dtest1)\n",
    "enc_preds2, num_preds2 = booster.predict(dtest2)"
   ]
  },
  {
   "cell_type": "markdown",
   "metadata": {},
   "source": [
    "**Note:** The cell above will only finish execution once every party has run it. If all parties have not yet run the cell, the cell will be blocked.\n",
    "\n",
    "At this point, each party has obtained a set of encrypted predictions. They now have a better idea of whether their mysterious mushroom samples are edible! Decrypt the predictions to reap the benefits of the collaboration and of being a member of the mushroom enthuasist group.\n",
    "\n",
    "**TODO:** replace the arguments to `decrypt_predictions()` with the variables storing your test data's predictions. You can also try decrypting another party's predictions, but that'll fail because you don't have the proper key."
   ]
  },
  {
   "cell_type": "code",
   "execution_count": null,
   "metadata": {
    "scrolled": true
   },
   "outputs": [],
   "source": [
    "# Decrypt our predictions\n",
    "preds = booster.decrypt_predictions(enc_preds2, num_preds2)\n",
    "print(preds[:10])"
   ]
  },
  {
   "cell_type": "markdown",
   "metadata": {},
   "source": [
    "Given the predictions, compare the predictions with the labels. The labels are the leftmost column in the test data. Run the following cell to look at the first ten records of the test data, which is stored locally."
   ]
  },
  {
   "cell_type": "code",
   "execution_count": null,
   "metadata": {},
   "outputs": [],
   "source": [
    "!head -n 10 /home/mc2/skycamp/mc2/tutorial/data/agaricus2.txt.test"
   ]
  },
  {
   "cell_type": "markdown",
   "metadata": {},
   "source": [
    "# Conclusion and Feedback\n",
    "\n",
    "In this tutorial, you generated a key and used it to encrypt your sensitive training data. You and other members of the collaboration transferred your respective encrypted data to a central location. You then collectively trained a model on the aggregated data and used the model to serve predictions on your test data.\n",
    "\n",
    "Thank you for attending our tutorial. If you have a few minutes, we'd really appreciate it if you could give us feedback and fill out this [form](https://forms.gle/mRZNqMHa9Xgcrg9F6)."
   ]
  }
 ],
 "metadata": {
  "kernelspec": {
   "display_name": "Python 3",
   "language": "python",
   "name": "python3"
  },
  "language_info": {
   "codemirror_mode": {
    "name": "ipython",
    "version": 3
   },
   "file_extension": ".py",
   "mimetype": "text/x-python",
   "name": "python",
   "nbconvert_exporter": "python",
   "pygments_lexer": "ipython3",
   "version": "3.6.9"
  }
 },
 "nbformat": 4,
 "nbformat_minor": 2
}
