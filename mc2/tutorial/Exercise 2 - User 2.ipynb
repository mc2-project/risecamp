{
 "cells": [
  {
   "cell_type": "markdown",
   "metadata": {},
   "source": [
    "#  Starting the server\n",
    "\n",
    "(Click [here](./Exercise%201%20-%20User%202.ipynb) if you want to go back to the previous notebook.)\n",
    "\n",
    "We'll first need to start the server to launch the enclave and to begin listening for client requests. However, since the other member in the collaboration (you, but in the other notebook) has been designated the enclave server, **you won't need to do anything for this step**. Below is a copy of the code that the enclave server is running to launch the enclave and listen for requests."
   ]
  },
  {
   "cell_type": "markdown",
   "metadata": {},
   "source": [
    "```python\n",
    "from Utils import *\n",
    "\n",
    "###########################################################\n",
    "# `clients` is a Python list, e.g.\n",
    "#\n",
    "# clients = [\"alice\", \"bob\"]\n",
    "###########################################################\n",
    "clients = # ...\n",
    "start_server(clients)\n",
    "```"
   ]
  },
  {
   "cell_type": "markdown",
   "metadata": {},
   "source": [
    "Once the enclave server has been launched, click below. \n",
    "\n",
    "### Click [here](./Exercise%203%20-%20User%202.ipynb) to go to the next notebook\n",
    "\n"
   ]
  }
 ],
 "metadata": {
  "kernelspec": {
   "display_name": "Python 3",
   "language": "python",
   "name": "python3"
  },
  "language_info": {
   "codemirror_mode": {
    "name": "ipython",
    "version": 3
   },
   "file_extension": ".py",
   "mimetype": "text/x-python",
   "name": "python",
   "nbconvert_exporter": "python",
   "pygments_lexer": "ipython3",
   "version": "3.6.9"
  }
 },
 "nbformat": 4,
 "nbformat_minor": 2
}
