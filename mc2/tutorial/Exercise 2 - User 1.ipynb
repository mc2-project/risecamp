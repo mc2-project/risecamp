{
 "cells": [
  {
   "cell_type": "markdown",
   "metadata": {},
   "source": [
    "<a id='exercise_2_user_1'></a>\n",
    "\n",
    "#  Starting the server\n",
    "\n",
    "(Click [here](./Exercise%201%20-%20User%201.ipynb) if you want to go back to the previous notebook.)\n",
    "\n",
    "We'll first need to start the server to launch the enclave and to begin listening for client requests."
   ]
  },
  {
   "cell_type": "markdown",
   "metadata": {},
   "source": [
    "**TODO:** Fill in the client list with usernames of all parties in the collaboration. This should be the two usernames that you specified in the two notebooks you ran for Exercise 1 (one per mushroom enthusiast).\n",
    "\n",
    "**Warning: Run this cell only once.**"
   ]
  },
  {
   "cell_type": "code",
   "execution_count": null,
   "metadata": {},
   "outputs": [],
   "source": [
    "from Utils import *\n",
    "\n",
    "# TODO: fill out `clients`\n",
    "\n",
    "###########################################################\n",
    "# `clients` is a Python list, e.g.\n",
    "#\n",
    "# clients = [\"alice\", \"bob\"]\n",
    "###########################################################\n",
    "clients = # ...\n",
    "start_server(clients)"
   ]
  },
  {
   "cell_type": "markdown",
   "metadata": {},
   "source": [
    "Once you've run the cell above and started the server, click below.\n",
    "\n",
    "### Click [here](./Exercise%203%20-%20User%201.ipynb) to go to the next notebook."
   ]
  },
  {
   "cell_type": "code",
   "execution_count": null,
   "metadata": {},
   "outputs": [],
   "source": []
  }
 ],
 "metadata": {
  "kernelspec": {
   "display_name": "Python 3",
   "language": "python",
   "name": "python3"
  },
  "language_info": {
   "codemirror_mode": {
    "name": "ipython",
    "version": 3
   },
   "file_extension": ".py",
   "mimetype": "text/x-python",
   "name": "python",
   "nbconvert_exporter": "python",
   "pygments_lexer": "ipython3",
   "version": "3.6.9"
  }
 },
 "nbformat": 4,
 "nbformat_minor": 2
}
