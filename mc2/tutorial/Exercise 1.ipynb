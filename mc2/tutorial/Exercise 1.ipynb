{
 "cells": [
  {
   "cell_type": "markdown",
   "metadata": {},
   "source": [
    "# MC<sup>2</sup>\n",
    "This tutorial demonstrates how to use [MC<sup>2</sup>](https://github.com/mc2-project/mc2) (<b>M</b>ultiparty <b>C</b>ollaboration and <b>C</b>ompetition), our platform that enables collaborating parties to jointly perform analytics and train machine learning models on their sensitive data without sharing the contents of the data. In particular, this tutorial focuses on a module of MC<sup>2</sup> that supports gradient boosted decision tree learning, [Secure XGBoost](https://github.com/mc2-project/secure-xgboost).\n",
    "\n",
    "Secure XGBoost leverages secure enclaves, e.g., Intel SGX, to perform computation in a secure environment. Parties can send their encrypted data to an untrusted server hosting Secure XGBoost, which will then load the data into an enclave before decrypting it. Since enclaves provide encrypted regions of memory, even the OS, hypervisor, and other (privileged) processes on the same machine won't be able to see the unencrypted data or intermediate results during computation.\n",
    "\n",
    "Secure XGBoost's architecture is shown below. Clients make requests to a central untrusted RPC orchestrator, which queues up requests and relays each request to each enclave server once all parties have made a particular request. Computation happens in a distributed manner across the enclave cluster.\n",
    "\n",
    "![Secure XGBoost architecture](figures/sys-arch.png)"
   ]
  },
  {
   "cell_type": "markdown",
   "metadata": {},
   "source": [
    "Normally, if this tutorial were in-person, we'd break everyone into small groups. Each group would form a collaboration, and work together to train a model on their pooled data. Pooling the data to form a larger dataset makes the model much more robust.\n",
    "\n",
    "Unfortunately, since everything is virtual, we cannot break everyone into small groups to form a physical collaboration. Instead, for this tutorial you will individually play the role of two different parties that want to collaborate without sharing the contents of their data.\n",
    "\n",
    "In practice, there will exist a central enclave cluster controlled by no one member of the party, on which all computation will occur. For this tutorial, you will start the enclave server that enables clients to jointly orchestrate a training pipeline that will run inside an enclave. All parties will submit requests to execute the pipeline together.\n",
    "\n",
    "MC<sup>2</sup> is open source and available on [GitHub](https://github.com/mc2-project/mc2)."
   ]
  },
  {
   "cell_type": "markdown",
   "metadata": {},
   "source": [
    "## Mushroom Dataset\n",
    "In this tutorial we'll be using the [Mushroom Dataset](https://archive.ics.uci.edu/ml/datasets/mushroom). This dataset contains 22 features, each of which represents a physical characteristic of a particular mushroom sample. Labels in this dataset are binary, and represent whether a mushroom sample is edible. As a result, the datasets lends itself quite nicely to a binary classification task.\n",
    "\n",
    "<img src=\"figures/mushroom.png\" width=\"100\"/>\n",
    "\n",
    "Imagine that you're part of a mushroom enthusiast group, and have stumbled across some mushroom samples whose edibility is unknown even after much examination. You could of course decide to try eating them, but eating even one poisonous mushroom would lead to the end of your mushroom collection career. Instead, you decide to team up with a few other mushroom enthuasists and combine your data to train a more robust mushroom edibility classification model. \n",
    "\n",
    "However, collecting all your mushroom samples was hard work -- you don't want other mushroom enthuasists to have access to your hard earned data, and consequently don't want to share your data in plaintext.\n",
    "\n",
    "You will play the role of two distinct mushroom enthusiasts who will be working together to collectively train a model on their aggregated data. To do so, please open up a second copy of this notebook before modifying anything. Each copy will represent the workflow of one enthusiast."
   ]
  },
  {
   "cell_type": "markdown",
   "metadata": {},
   "source": [
    "## 1. User Setup\n",
    "We'll first need to set up your user by inputting a username, generating a keypair, generating a certificate, and generating a symmetric key. \n",
    "\n",
    "**Make sure that you enter a unique username in each notebook**.\n",
    "\n",
    "**TODO:** Create and enter a username. \n",
    "\n",
    "**Note**: The following cell may take ~10 seconds to run."
   ]
  },
  {
   "cell_type": "code",
   "execution_count": null,
   "metadata": {},
   "outputs": [],
   "source": [
    "import securexgboost as mc2\n",
    "from Utils import *\n",
    "\n",
    "# TODO: Enter your username below as a string. Ensure that your username doesn't\n",
    "# contain any spaces.\n",
    "username = # ...\n",
    "data_dir = \"/home/mc2/risecamp/mc2/tutorial/data/\""
   ]
  },
  {
   "cell_type": "code",
   "execution_count": null,
   "metadata": {},
   "outputs": [],
   "source": [
    "# Run this cell to generate a keypair and a certificate\n",
    "generate_certificate(username)\n",
    "PUB_KEY = \"config/{0}.pem\".format(username)\n",
    "CERT_FILE = \"config/{0}.crt\".format(username)"
   ]
  },
  {
   "cell_type": "code",
   "execution_count": null,
   "metadata": {},
   "outputs": [],
   "source": [
    "# Run this cell to generate a symmetric key\n",
    "KEY_FILE = \"{}_key.txt\".format(username)\n",
    "mc2.generate_client_key(KEY_FILE)"
   ]
  },
  {
   "cell_type": "markdown",
   "metadata": {},
   "source": [
    "## 2. Data Preparation\n"
   ]
  },
  {
   "cell_type": "markdown",
   "metadata": {},
   "source": [
    "Since attendees have been split into groups of 4, we've prepared four sets of training data, one set for each person in the group. Coordinate who will be using which set.\n",
    "\n",
    "Since you will play the role of two mushroom enthusiasts, we've prepared two sets of training and test data, one per enthusiast.\n",
    "\n",
    "Training data for each is located at the following paths:\n",
    "* enthusiast 1: `/home/mc2/risecamp/mc2/tutorial/data/agaricus1.txt`\n",
    "* enthusiast 2: `/home/mc2/risecamp/mc2/tutorial/data/agaricus2.txt`\n",
    "\n",
    "Test data for each is located at the following paths:\n",
    "* enthusiast 1: `/home/mc2/risecamp/mc2/tutorial/data/agaricus1.txt.test`\n",
    "* enthusiast 2: `/home/mc2/risecamp/mc2/tutorial/data/agaricus2.txt.test`\n"
   ]
  },
  {
   "cell_type": "markdown",
   "metadata": {},
   "source": [
    "### Plaintext Data Examination\n",
    "First, examine your training data -- check out the mushroom samples you've collected! \n",
    "\n",
    "Secure XGBoost uses LibSVM format. The first column represents the sample label (whether the sample is edible). All features are categorical, and features have been one hot encoded -- each column represents the category of the feature. In particular, note that the data is in plaintext and is readable.\n",
    "\n",
    "**TODO:** Fill in the path to the training data for the user of this notebook."
   ]
  },
  {
   "cell_type": "code",
   "execution_count": null,
   "metadata": {},
   "outputs": [],
   "source": [
    "# TODO: fill in the path to your training data\n",
    "# You should use `agaricus1.txt` in one notebook, `agaricus2.txt` in the other\n",
    "!tail -n 10 # ..."
   ]
  },
  {
   "cell_type": "markdown",
   "metadata": {},
   "source": [
    "### Data Encryption\n",
    "Next, use the symmetric key generated above to encrypt your data. You've spent inordinate amounts of time collecting your mushroom samples and examining them, and don't want to share the fruits of your labor with anyone else.\n",
    "\n",
    "**TODO:** Specify the paths to your training and test data."
   ]
  },
  {
   "cell_type": "code",
   "execution_count": null,
   "metadata": {},
   "outputs": [],
   "source": [
    "# TODO: edit the `training_data` and `test_data` strings with the paths to your data\n",
    "# You should use `agaricus1.txt` in one notebook, `agaricus2.txt` in the other\n",
    "training_data = # ...\n",
    "test_data = # ..."
   ]
  },
  {
   "cell_type": "code",
   "execution_count": null,
   "metadata": {},
   "outputs": [],
   "source": [
    "# Paths to output encrypted data\n",
    "enc_training_data = data_dir + \"{}_train.enc\".format(username)\n",
    "enc_test_data = data_dir + \"{}_test.enc\".format(username)"
   ]
  },
  {
   "cell_type": "code",
   "execution_count": null,
   "metadata": {},
   "outputs": [],
   "source": [
    "# Encrypt data\n",
    "mc2.encrypt_file(training_data, enc_training_data, KEY_FILE)\n",
    "mc2.encrypt_file(test_data, enc_test_data, KEY_FILE)"
   ]
  },
  {
   "cell_type": "markdown",
   "metadata": {},
   "source": [
    "### Encrypted Data Examination\n",
    "The encrypted data is at `/home/mc2/risecamp/mc2/tutorial/data/<username>_train.enc` and `/home/mc2/risecamp/mc2/tutorial/data/<username>_test.enc`. Let's take a look to confirm it's encrypted and that no one can see the characteristics of your samples.\n",
    "\n",
    "**TODO:** Fill in your username to specify the path to your encrypted data."
   ]
  },
  {
   "cell_type": "code",
   "execution_count": null,
   "metadata": {},
   "outputs": [],
   "source": [
    "# TODO: fill in your username\n",
    "!tail -n 10 # ..."
   ]
  },
  {
   "cell_type": "code",
   "execution_count": null,
   "metadata": {},
   "outputs": [],
   "source": [
    "# Run this cell to store variables for use in subsequent notebooks\n",
    "%store username\n",
    "%store PUB_KEY \n",
    "%store CERT_FILE \n",
    "%store KEY_FILE \n",
    "%store enc_training_data \n",
    "%store enc_test_data"
   ]
  },
  {
   "cell_type": "markdown",
   "metadata": {},
   "source": [
    "**Once you've finished this step, wait for breakout rooms to reconverge.**"
   ]
  },
  {
   "cell_type": "markdown",
   "metadata": {},
   "source": [
    "## 3. Enclave server setup\n",
    "While in practice there'll be an enclave server controlled by no one party, to complete this tutorial you will act on behalf of one mushroom enthusaist to launch the enclave server.\n",
    "\n",
    "From the notebook of the user that you want to launch the enclave server, click [here](./Exercise 2.ipynb) to go to the next notebook, where you'll launch the enclave server. You'll have to set up the enclave server before you can begin training.\n",
    "\n",
    "Otherwise, from the non-enclave-server user notebook, click [here](./Exercise 2 - Mirror.ipynb)."
   ]
  },
  {
   "cell_type": "code",
   "execution_count": null,
   "metadata": {},
   "outputs": [],
   "source": []
  }
 ],
 "metadata": {
  "kernelspec": {
   "display_name": "Python 3",
   "language": "python",
   "name": "python3"
  },
  "language_info": {
   "codemirror_mode": {
    "name": "ipython",
    "version": 3
   },
   "file_extension": ".py",
   "mimetype": "text/x-python",
   "name": "python",
   "nbconvert_exporter": "python",
   "pygments_lexer": "ipython3",
   "version": "3.6.9"
  }
 },
 "nbformat": 4,
 "nbformat_minor": 2
}
