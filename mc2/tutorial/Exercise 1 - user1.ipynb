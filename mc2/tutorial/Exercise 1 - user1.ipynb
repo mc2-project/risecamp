{
 "cells": [
  {
   "cell_type": "markdown",
   "metadata": {},
   "source": [
    "## 1. User Setup\n",
    "We'll first need to set up your user by inputting a username, generating a keypair, generating a certificate, and generating a symmetric key. \n",
    "\n",
    "**Make sure that you enter a unique username in each notebook**.\n",
    "\n",
    "**TODO:** Create and enter a username. \n",
    "\n",
    "**Note**: The following cell may take ~10 seconds to run."
   ]
  },
  {
   "cell_type": "code",
   "execution_count": 1,
   "metadata": {},
   "outputs": [],
   "source": [
    "import securexgboost as mc2\n",
    "from Utils import *\n",
    "\n",
    "# TODO: Enter your username below as a string. Ensure that your username doesn't\n",
    "# contain any spaces.\n",
    "username = \"chester\"\n",
    "data_dir = \"/home/mc2/risecamp/mc2/tutorial/data/\""
   ]
  },
  {
   "cell_type": "code",
   "execution_count": 2,
   "metadata": {},
   "outputs": [
    {
     "name": "stdout",
     "output_type": "stream",
     "text": [
      "Generating keypair\n",
      "Generating RSA private key, 3072 bit long modulus (2 primes)\n",
      ".........................................................................................................................++++\n",
      "..............................++++\n",
      "e is 3 (0x03)\n",
      "Generating CSR\n",
      "Signing CSR\n",
      "Signature ok\n",
      "subject=CN = chester\n",
      "Getting CA Private Key\n"
     ]
    }
   ],
   "source": [
    "# Run this cell to generate a keypair and a certificate\n",
    "generate_certificate(username)\n",
    "PUB_KEY = \"config/{0}.pem\".format(username)\n",
    "CERT_FILE = \"config/{0}.crt\".format(username)"
   ]
  },
  {
   "cell_type": "code",
   "execution_count": 3,
   "metadata": {},
   "outputs": [],
   "source": [
    "# Run this cell to generate a symmetric key\n",
    "KEY_FILE = \"{}_key.txt\".format(username)\n",
    "mc2.generate_client_key(KEY_FILE)"
   ]
  },
  {
   "cell_type": "markdown",
   "metadata": {},
   "source": [
    "## 2. Data Preparation\n"
   ]
  },
  {
   "cell_type": "markdown",
   "metadata": {},
   "source": [
    "Since attendees have been split into groups of 4, we've prepared four sets of training data, one set for each person in the group. Coordinate who will be using which set.\n",
    "\n",
    "Since you will play the role of two mushroom enthusiasts, we've prepared two sets of training and test data, one per enthusiast.\n",
    "\n",
    "Training data for each is located at the following paths:\n",
    "* enthusiast 1: `/home/mc2/risecamp/mc2/tutorial/data/agaricus1.txt`\n",
    "* enthusiast 2: `/home/mc2/risecamp/mc2/tutorial/data/agaricus2.txt`\n",
    "\n",
    "Test data for each is located at the following paths:\n",
    "* enthusiast 1: `/home/mc2/risecamp/mc2/tutorial/data/agaricus1.txt.test`\n",
    "* enthusiast 2: `/home/mc2/risecamp/mc2/tutorial/data/agaricus2.txt.test`\n"
   ]
  },
  {
   "cell_type": "markdown",
   "metadata": {},
   "source": [
    "### Plaintext Data Examination\n",
    "First, examine your training data -- check out the mushroom samples you've collected! \n",
    "\n",
    "Secure XGBoost uses LibSVM format. The first column represents the sample label (whether the sample is edible). All features are categorical, and features have been one hot encoded -- each column represents the category of the feature. In particular, note that the data is in plaintext and is readable.\n",
    "\n",
    "**TODO:** Fill in the path to the training data for the user of this notebook."
   ]
  },
  {
   "cell_type": "code",
   "execution_count": 4,
   "metadata": {},
   "outputs": [
    {
     "name": "stdout",
     "output_type": "stream",
     "text": [
      "^C\r\n"
     ]
    }
   ],
   "source": [
    "# TODO: fill in the path to your training data\n",
    "# You should use `agaricus1.txt` in one notebook, `agaricus2.txt` in the other\n",
    "!tail -n 10 # ..."
   ]
  },
  {
   "cell_type": "markdown",
   "metadata": {},
   "source": [
    "### Data Encryption\n",
    "Next, use the symmetric key generated above to encrypt your data. You've spent inordinate amounts of time collecting your mushroom samples and examining them, and don't want to share the fruits of your labor with anyone else.\n",
    "\n",
    "**TODO:** Specify the paths to your training and test data."
   ]
  },
  {
   "cell_type": "code",
   "execution_count": 4,
   "metadata": {},
   "outputs": [],
   "source": [
    "# TODO: edit the `training_data` and `test_data` strings with the paths to your data\n",
    "# You should use `agaricus1.txt` in one notebook, `agaricus2.txt` in the other\n",
    "training_data = \"/home/mc2/risecamp/mc2/tutorial/data/agaricus1.txt\"\n",
    "test_data = \"/home/mc2/risecamp/mc2/tutorial/data/agaricus1.txt.test\""
   ]
  },
  {
   "cell_type": "code",
   "execution_count": 5,
   "metadata": {},
   "outputs": [],
   "source": [
    "# Paths to output encrypted data\n",
    "enc_training_data = data_dir + \"{}_train.enc\".format(username)\n",
    "enc_test_data = data_dir + \"{}_test.enc\".format(username)"
   ]
  },
  {
   "cell_type": "code",
   "execution_count": 6,
   "metadata": {},
   "outputs": [],
   "source": [
    "# Encrypt data\n",
    "mc2.encrypt_file(training_data, enc_training_data, KEY_FILE)\n",
    "mc2.encrypt_file(test_data, enc_test_data, KEY_FILE)"
   ]
  },
  {
   "cell_type": "markdown",
   "metadata": {},
   "source": [
    "### Encrypted Data Examination\n",
    "The encrypted data is at `/home/mc2/risecamp/mc2/tutorial/data/<username>_train.enc` and `/home/mc2/risecamp/mc2/tutorial/data/<username>_test.enc`. Let's take a look to confirm it's encrypted and that no one can see the characteristics of your samples.\n",
    "\n",
    "**TODO:** Fill in your username to specify the path to your encrypted data."
   ]
  },
  {
   "cell_type": "code",
   "execution_count": null,
   "metadata": {},
   "outputs": [],
   "source": [
    "# TODO: fill in your username\n",
    "!tail -n 10 # ..."
   ]
  },
  {
   "cell_type": "markdown",
   "metadata": {},
   "source": [
    "## 3. Enclave server setup\n",
    "While in practice there'll be an enclave server controlled by no one party, to complete this tutorial you will act on behalf of one mushroom enthusaist to launch the enclave server.\n",
    "\n",
    "To do so, click [here](./Exercise 2 - user1.ipynb) to go to the next notebook, where you'll launch the enclave server. You'll have to set up the enclave server before you can begin training."
   ]
  }
 ],
 "metadata": {
  "kernelspec": {
   "display_name": "Python 3",
   "language": "python",
   "name": "python3"
  },
  "language_info": {
   "codemirror_mode": {
    "name": "ipython",
    "version": 3
   },
   "file_extension": ".py",
   "mimetype": "text/x-python",
   "name": "python",
   "nbconvert_exporter": "python",
   "pygments_lexer": "ipython3",
   "version": "3.6.9"
  }
 },
 "nbformat": 4,
 "nbformat_minor": 2
}
